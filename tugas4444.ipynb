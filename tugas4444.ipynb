{
  "cells": [
    {
      "cell_type": "code",
      "execution_count": null,
      "metadata": {
        "id": "D2hDk4Psngw5"
      },
      "outputs": [],
      "source": [
        "import matplotlib.pyplot as plt"
      ]
    },
    {
      "cell_type": "code",
      "execution_count": null,
      "metadata": {
        "colab": {
          "base_uri": "https://localhost:8080/",
          "height": 578
        },
        "id": "KdXWWYiiolI3",
        "outputId": "7d9457a2-6451-411a-d0b0-e32a102e7efb"
      },
      "outputs": [
        {
          "output_type": "stream",
          "name": "stdout",
          "text": [
            "======== SOAL NO 1 ========\n",
            "\n",
            "jumlah makanan yang di pesan: 24\n",
            "hitunglah jumlah makanan yang di pesan dan jumlahkan harganya 545000\n",
            "\n",
            "======== SOAL NO 2 ========\n",
            "\n",
            "persentaseu burger 0.25%\n",
            "persentaseu burger 0.125%\n",
            "persentaseu burger 0.16666666666666666%\n",
            "persentaseu burger 0.16666666666666666%\n",
            "persentaseu burger 0.08333333333333333%\n",
            "persentaseu burger 0.20833333333333334%\n",
            "\n"
          ]
        },
        {
          "output_type": "display_data",
          "data": {
            "text/plain": [
              "<Figure size 432x288 with 1 Axes>"
            ],
            "image/png": "[encoded data removed]"
          },
          "metadata": {}
        }
      ],
      "source": [
        "from numpy import nanmax\n",
        "burger = 24000\n",
        "pizza = 52000\n",
        "dimsum = 30000\n",
        "ekkado = 7500\n",
        "milkshake = 10000\n",
        "eskrim = 15000\n",
        "\n",
        "print(\"======== SOAL NO 1 ========\")\n",
        "print(\"\")\n",
        "b_burger = 6\n",
        "b_pizza = 3 \n",
        "b_dimsum = 4\n",
        "b_ekkado = 4\n",
        "b_milkshake = 2\n",
        "b_eskrim = 5\n",
        "\n",
        "hasil_s = (b_burger * burger) + (b_pizza * pizza) + (b_dimsum * dimsum) + (b_ekkado * ekkado) + (b_milkshake * milkshake) + (b_eskrim * eskrim)\n",
        "total_m = (b_burger + b_pizza + b_dimsum + b_ekkado + b_milkshake + b_eskrim)\n",
        "print(\"jumlah makanan yang di pesan: \" + str (total_m))\n",
        "print(\"hitunglah jumlah makanan yang di pesan dan jumlahkan harganya \" + str (hasil_s))\n",
        "\n",
        "print(\"\")\n",
        "print(\"======== SOAL NO 2 ========\")\n",
        "print(\"\")\n",
        "a = (b_burger / 24)\n",
        "print(\"persentaseu burger \" + str(a) + \"%\")\n",
        "b = (b_pizza / 24)\n",
        "print(\"persentaseu burger \" + str(b) + \"%\")\n",
        "c = (b_dimsum / 24)\n",
        "print(\"persentaseu burger \" + str(c) + \"%\")\n",
        "d = (b_ekkado / 24)\n",
        "print(\"persentaseu burger \" + str(d) + \"%\")\n",
        "e = (b_milkshake / 24)\n",
        "print(\"persentaseu burger \" + str(e) + \"%\")\n",
        "f = (b_eskrim / 24)\n",
        "print(\"persentaseu burger \" + str(f) + \"%\")\n",
        "\n",
        "print(\"\")\n",
        "fig =plt.figure()\n",
        "ax = fig.add_axes([0, 0, 1, 1])\n",
        "ax.axis('equal')\n",
        "plt.title(\"PERSENTASEU\")\n",
        "nama = ['burger', 'pizza', 'dimsum', 'ekkado', 'milkshake', 'eskrim']\n",
        "persentaseu = [20.0, 12.5, 16.7, 16.7, 8.33, 20.83]\n",
        "c = ['red', 'green', 'blue', 'red', 'green', 'blue']\n",
        "ax.pie(persentaseu,labels = nama,autopct ='%1.2f%%')\n",
        "plt.show()"
      ]
    },
    {
      "cell_type": "code",
      "execution_count": null,
      "metadata": {
        "colab": {
          "background_save": true,
          "base_uri": "https://localhost:8080/"
        },
        "id": "wt65iHN2wWJ7",
        "outputId": "4f0f620e-686b-4f9a-b72c-0e27ccccfdc6"
      },
      "outputs": [
        {
          "name": "stdout",
          "output_type": "stream",
          "text": [
            "======== SOAL NO 3 ========\n",
            "ahmad\n",
            "jumlah belanjaan ahmad Rp.150000.0\n",
            "maka kembalianya adalah Rp.50000.0\n",
            "beni\n",
            "jumlah belanjaan beni Rp.89700.0\n",
            "maka kembalianya adalah Rp.60300.0\n",
            "citra\n",
            "jumlah belanjaan citra Rp.56000\n",
            "maka kembalianya adalah Rp.4000\n",
            "dadang\n",
            "jumlah belanjaan dadang Rp.114400.0\n",
            "maka kembalianya adalah Rp.-14400.0\n"
          ]
        }
      ],
      "source": [
        "print(\"======== SOAL NO 3 ========\")\n",
        "print(\"ahmad\")\n",
        "burger_a = 4\n",
        "pizza_a = 2\n",
        "\n",
        "ahmad = (0.70 * ((burger_a * 24000) + (pizza_a * 52000)) ) + (7.5 * 2000) - 5000\n",
        "hasil_a = (200000 - ahmad)\n",
        "print(\"jumlah belanjaan ahmad Rp.\" + str (ahmad))\n",
        "print(\"maka kembalianya adalah Rp.\" + str (hasil_a))\n",
        "\n",
        "\n",
        "\n",
        "print(\"beni\")\n",
        "dimsum_b = 3\n",
        "eskrim_b = 1\n",
        "milkshake_b = 2\n",
        "\n",
        "beni = (0.70 * ((dimsum_b * 30000) + (eskrim_b * 15000) + (milkshake_b * 10000)) ) + (4 * 1800) - 5000\n",
        "hasil_b = (150000 - beni)\n",
        "print(\"jumlah belanjaan beni Rp.\" + str (beni))\n",
        "print(\"maka kembalianya adalah Rp.\" + str (hasil_b))\n",
        "\n",
        "\n",
        "\n",
        "print(\"citra\")\n",
        "eskrim_c = 3\n",
        "\n",
        "citra = (eskrim_c * 15000) + (8 * 2000) - 5000\n",
        "hasil_c = (60000 - citra)\n",
        "print(\"jumlah belanjaan citra Rp.\" + str (citra))\n",
        "print(\"maka kembalianya adalah Rp.\" + str (hasil_c))\n",
        "\n",
        "\n",
        "print(\"dadang\")\n",
        "burger_d = 2\n",
        "dimsum_d = 1\n",
        "\n",
        "dadang = (0.80 * ((burger_d * 24000) + (dimsum_b * 30000)) ) + (5 * 1800) - 5000\n",
        "hasil_d = (100000 - dadang)\n",
        "print(\"jumlah belanjaan dadang Rp.\" + str (dadang))\n",
        "print(\"maka kembalianya adalah Rp.\" + str (hasil_d))"
      ]
    },
    {
      "cell_type": "code",
      "execution_count": null,
      "metadata": {
        "colab": {
          "base_uri": "https://localhost:8080/"
        },
        "id": "lWuHB80WuDbv",
        "outputId": "60f09338-5132-41d3-98cd-30758162bcd0"
      },
      "outputs": [
        {
          "name": "stdout",
          "output_type": "stream",
          "text": [
            "======== SOAL NO 5 ========\n",
            "jarak tambah ongkir\n",
            "maka hasil dari semua jarak ongkir adalah Rp.73600.0\n"
          ]
        }
      ],
      "source": [
        "print(\"======== SOAL NO 5 ========\")\n",
        "print(\"jarak tambah ongkir\")\n",
        "a = 7.5\n",
        "b = 2000\n",
        "c = 4\n",
        "d = 1800\n",
        "e = 8\n",
        "f = 2000\n",
        "g = 5\n",
        "h = 1800\n",
        "i = 12\n",
        "j = 2200\n",
        "\n",
        "hasil_jo = (a * b) + (c *d) + (e * f) + (g * h) + (i * j)\n",
        "print(\"maka hasil dari semua jarak ongkir adalah Rp.\" + str (hasil_jo))"
      ]
    }
  ],
  "metadata": {
    "colab": {
      "provenance": []
    },
    "kernelspec": {
      "display_name": "Python 3",
      "name": "python3"
    },
    "language_info": {
      "name": "python"
    }
  },
  "nbformat": 4,
  "nbformat_minor": 0
}