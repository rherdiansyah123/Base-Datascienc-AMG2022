{
  "nbformat": 4,
  "nbformat_minor": 0,
  "metadata": {
    "colab": {
      "provenance": []
    },
    "kernelspec": {
      "name": "python3",
      "display_name": "Python 3"
    },
    "language_info": {
      "name": "python"
    }
  },
  "cells": [
    {
      "cell_type": "code",
      "execution_count": null,
      "metadata": {
        "colab": {
          "base_uri": "https://localhost:8080/"
        },
        "id": "TTrTyg6-7qdV",
        "outputId": "09417819-5f1e-4359-db45-be0a7824c2f9"
      },
      "outputs": [
        {
          "output_type": "stream",
          "name": "stdout",
          "text": [
            "balanjaan tia\n",
            "maka belanjaan tia 246600rupiah\n",
            "maka jumlah belanjaan tia setelah mendapatkan diskon adalah 209610.0\n",
            "\n",
            "balanjaan hana\n",
            "maka belanjaan hana 193200.0rupiah\n",
            "maka jumlah belanjaan hana setelah mendapatkan diskon adalah 173880.0\n",
            "\n",
            "balanjaan widia\n",
            "maka belanjaan widia 119300rupiah\n",
            "\n",
            "balanjaan romi\n",
            "maka belanjaan romi 221700rupiah\n",
            "maka jumlah belanjaan romi setelah mendapatkan diskon adalah 188445.0\n",
            "\n",
            "balanjaan samsul\n",
            "makan belanjaan samsul 323800rupiah\n",
            "maka jumlah belanjaan samsul setelah mendapatkan diskon adalah 242850.0\n",
            "\n",
            "balanjaan dimas\n",
            "makan belanjaan dimas 379300rupiah\n",
            "maka jumlah belanjaan samsul setelah mendapatkan diskon adalah 242850.0\n",
            "\n",
            "===SOAL NO 3===\n",
            "maka jumlah belanjaan paling besar adalah dimas rp. [284475]\n",
            "===SOAL NO 4===\n",
            "maka yang mendapatkan diskon 10 persen adalah : ('hana', 'rp. 173880')\n"
          ]
        }
      ],
      "source": [
        "beras = 11400\n",
        "minyak = 12700\n",
        "ayam = 3400\n",
        "telur = 21800\n",
        "popok = 27000\n",
        "sabun_cuci = 1800\n",
        "buah_anggur = 3800  \n",
        "roti_tawar = 8500\n",
        "tissu = 6400\n",
        "mie_instan = 2200\n",
        "\n",
        "print(\"balanjaan tia\")\n",
        "beras_tia = 4\n",
        "ayam_tia = 2\n",
        "telur_tia = 3\n",
        "sabun_cuci_tia = 5\n",
        "buah_anggur_tia = 4\n",
        "roti_tawar_tia = 2\n",
        "mie_instan_tia = 12\n",
        "#diskon\n",
        "diskon = 85\n",
        "jb_tia = (beras_tia * beras) + (ayam_tia * (ayam * 10)) + (telur_tia * telur) + (sabun_cuci_tia * sabun_cuci) + (buah_anggur_tia * buah_anggur) + (roti_tawar_tia * roti_tawar) + (mie_instan_tia * mie_instan)\n",
        "jb_diskon_tia = (jb_tia / 100) * diskon\n",
        "print(\"maka belanjaan tia \" + str(jb_tia) + \"rupiah\")\n",
        "print(\"maka jumlah belanjaan tia setelah mendapatkan diskon adalah \" + str (jb_diskon_tia))\n",
        "\n",
        "print(\"\")\n",
        "print(\"balanjaan hana\")\n",
        "minyak_hana = 2\n",
        "ayam_hana = 5 \n",
        "telur_hana = 1.5\n",
        "sabun_cuci_hana = 3\n",
        "buah_anggur_hana = 8\n",
        "roti_tawar_hana = 3\n",
        "tissu_hana = 2\n",
        "mie_instan_hana = 20\n",
        "\n",
        "diskon = 90\n",
        "jb_hana = (minyak_hana * minyak) + (ayam_hana * ayam) + (telur_hana * telur) + (sabun_cuci_hana * sabun_cuci) + (buah_anggur_hana * buah_anggur) + (roti_tawar_hana * roti_tawar) + (tissu_hana * tissu) + (mie_instan_hana * mie_instan)\n",
        "jb_diskon_hana = (jb_hana / 100) * diskon\n",
        "print(\"maka belanjaan hana \" + str (jb_hana) + \"rupiah\")\n",
        "print(\"maka jumlah belanjaan hana setelah mendapatkan diskon adalah \" + str (jb_diskon_hana))\n",
        "\n",
        "\n",
        "print(\"\")\n",
        "print(\"balanjaan widia\")\n",
        "beras_widia = 1\n",
        "minyak_widia = 1\n",
        "telur_widia = 1\n",
        "buah_anggur_widia = 5\n",
        "tissu_widia = 3\n",
        "mie_instan_widia = 16\n",
        "jb_widia = (beras_widia * beras) + (minyak_widia * minyak) + (telur_widia * telur) + (buah_anggur_widia * buah_anggur) + (tissu_widia * tissu) + (mie_instan_widia * mie_instan)\n",
        "print(\"maka belanjaan widia \" + str (jb_widia) + \"rupiah\")\n",
        "\n",
        "\n",
        "\n",
        "print(\"\")\n",
        "print(\"balanjaan romi\")\n",
        "minyak_romi = 3\n",
        "telur_romi = 2\n",
        "popok_romi = 4\n",
        "sabun_cuci_romi = 8\n",
        "mie_instan_romi = 8\n",
        "diskon = 85\n",
        "jb_romi = (minyak_romi * minyak) + (telur_romi * telur) + (popok_romi * popok) + (sabun_cuci_romi * sabun_cuci) + (mie_instan_romi * mie_instan)\n",
        "jb_diskon_romi = (jb_romi / 100) * diskon\n",
        "print(\"maka belanjaan romi \" + str (jb_romi) + \"rupiah\")\n",
        "print(\"maka jumlah belanjaan romi setelah mendapatkan diskon adalah \" + str (jb_diskon_romi))\n",
        "\n",
        "\n",
        "print(\"\")\n",
        "print(\"balanjaan samsul\")\n",
        "ayam_samsul = 3\n",
        "telur_samsul = 4\n",
        "popok_samsul = 2\n",
        "buah_anggur_samsul = 7\n",
        "tissu_samsul = 5\n",
        "mie_instan_samsul = 10\n",
        "\n",
        "diskon = 75\n",
        "jb_samsul = (ayam_samsul * (ayam * 10)) + (telur_samsul * telur) + (popok_samsul * popok) + (buah_anggur_samsul * buah_anggur) + (tissu_samsul * tissu) + (mie_instan_samsul * mie_instan)\n",
        "jb_diskon_samsul = (jb_samsul / 100) * diskon\n",
        "print(\"makan belanjaan samsul \" + str (jb_samsul) + \"rupiah\")\n",
        "print(\"maka jumlah belanjaan samsul setelah mendapatkan diskon adalah \" + str (jb_diskon_samsul))\n",
        "\n",
        "\n",
        "print(\"\")\n",
        "print(\"balanjaan dimas\")\n",
        "ayam_dimas = 5\n",
        "popok_dimas = 5  \n",
        "sabun_cuci_dimas = 4\n",
        "buah_anggur_dimas = 3\n",
        "roti_tawar_dimas = 5\n",
        "mie_instan_dimas = 6\n",
        "\n",
        "diskon = 75\n",
        "jb_dimas = (ayam_dimas * (ayam * 10)) + (popok_dimas * popok) + (sabun_cuci_dimas * sabun_cuci) + (buah_anggur_dimas * buah_anggur) + (roti_tawar_dimas * roti_tawar) + (mie_instan_dimas * mie_instan)\n",
        "jb_diskon_samsul = (jb_samsul / 100) * diskon\n",
        "print(\"makan belanjaan dimas \" + str (jb_dimas) + \"rupiah\")\n",
        "print(\"maka jumlah belanjaan samsul setelah mendapatkan diskon adalah \" + str (jb_diskon_samsul))\n",
        "\n",
        "print(\"\")\n",
        "print(\"===SOAL NO 3===\")\n",
        "\n",
        "maxz = [284475]\n",
        "print(\"maka jumlah belanjaan paling besar adalah dimas rp. \" + str(maxz))\n",
        "\n",
        "print(\"===SOAL NO 4===\")\n",
        "\n",
        "tenpersen = (\"hana\",\"rp. 173880\")\n",
        "print(\"maka yang mendapatkan diskon 10 persen adalah : \" + str(tenpersen))\n"
      ]
    },
    {
      "cell_type": "code",
      "source": [
        "import matplotlib.pyplot as plt"
      ],
      "metadata": {
        "id": "mkfEzd5yzJoB"
      },
      "execution_count": null,
      "outputs": []
    },
    {
      "cell_type": "code",
      "source": [
        "# cara menampilkan grafik BAR\n",
        "fig = plt.figure()\n",
        "ax = fig.add_axes([0,0,1,1])\n",
        "nama = ['tia', 'hana', 'widia', 'romi', 'samsul', 'dimas']\n",
        "jb = [246600, 193200, 119300, 221700, 323800, 379300]\n",
        "c = ['red', 'green', 'blue', 'red', 'green', 'blue']\n",
        "plt.title(\"jumlah belanjaan sebelum mendapatkan dikon\")\n",
        "plt.bar(nama, jb, color = c)\n",
        "plt.show()\n",
        "\n",
        "print(\"\")\n",
        "fig = plt.figure()\n",
        "ax = fig.add_axes([0,0,1,1])\n",
        "nama = ['tia', 'hana', 'widia', 'romi', 'samsul', 'dimas']\n",
        "jb = [209610, 173880, 119300, 188445, 242850, 242850]\n",
        "c = ['red', 'green', 'blue', 'red', 'green', 'blue']\n",
        "plt.title(\"jumlah belanjaan setelah mendapatkan dikon\")\n",
        "plt.bar(nama, jb, color = c)\n",
        "plt.show()"
      ],
      "metadata": {
        "colab": {
          "base_uri": "https://localhost:8080/",
          "height": 705
        },
        "id": "WtHWqUbHzMlS",
        "outputId": "9c861477-2fb6-4009-c4ec-105216279a83"
      },
      "execution_count": null,
      "outputs": [
        {
          "output_type": "display_data",
          "data": {
            "text/plain": [
              "<Figure size 432x288 with 1 Axes>"
            ],
            "image/png": "[encoded data removed]"
          },
          "metadata": {
            "needs_background": "light"
          }
        },
        {
          "output_type": "stream",
          "name": "stdout",
          "text": [
            "\n"
          ]
        },
        {
          "output_type": "display_data",
          "data": {
            "text/plain": [
              "<Figure size 432x288 with 1 Axes>"
            ],
            "image/png": "[encoded data removed]"
          },
          "metadata": {
            "needs_background": "light"
          }
        }
      ]
    },
    {
      "cell_type": "code",
      "source": [
        "#pie chart\n",
        "fig =plt.figure()\n",
        "ax = fig.add_axes([0, 0, 1, 1])\n",
        "ax.axis('equal')\n",
        "plt.title(\"DATA SISWA PPD SMK AL-MADANI GARUT\")\n",
        "nama = ['tia', 'hana', 'widia', 'romi', 'samsul', 'dimas']\n",
        "jb = [246600, 193200, 119300, 221700, 323800, 379300]\n",
        "c = ['red', 'green', 'blue', 'red', 'green', 'blue']\n",
        "ax.pie(jb,labels = nama,autopct ='%1.2f%%')\n",
        "plt.show()"
      ],
      "metadata": {
        "colab": {
          "base_uri": "https://localhost:8080/",
          "height": 335
        },
        "id": "Sl3ZbqXfgD3O",
        "outputId": "e9b1a917-47cb-4782-f781-adb730d7024a"
      },
      "execution_count": null,
      "outputs": [
        {
          "output_type": "display_data",
          "data": {
            "text/plain": [
              "<Figure size 432x288 with 1 Axes>"
            ],
            "image/png": "[encoded data removed]"
          },
          "metadata": {}
        }
      ]
    }
  ]
}